{
  "nbformat": 4,
  "nbformat_minor": 0,
  "metadata": {
    "colab": {
      "private_outputs": true,
      "provenance": [],
      "gpuType": "T4",
      "toc_visible": true
    },
    "kernelspec": {
      "name": "python3",
      "display_name": "Python 3"
    },
    "language_info": {
      "name": "python"
    },
    "accelerator": "GPU"
  },
  "cells": [
    {
      "cell_type": "markdown",
      "source": [
        "# **환경설정** (for Colab) - Mecab 다운로드"
      ],
      "metadata": {
        "id": "saBRe6TElF_B"
      }
    },
    {
      "cell_type": "code",
      "source": [
        "# 드라이브 마운트\n",
        "from google.colab import drive\n",
        "drive.mount('/content/drive')"
      ],
      "metadata": {
        "id": "GGv_okOJp5OT"
      },
      "execution_count": null,
      "outputs": []
    },
    {
      "cell_type": "code",
      "source": [
        "!pip install jamo # 종성여부 판단을 위한 라이브러리"
      ],
      "metadata": {
        "id": "q2HO0NbDltz4"
      },
      "execution_count": null,
      "outputs": []
    },
    {
      "cell_type": "code",
      "source": [
        "!git clone https://github.com/SOMJANG/Mecab-ko-for-Google-Colab.git"
      ],
      "metadata": {
        "id": "bNnvXmPsm5o5"
      },
      "execution_count": null,
      "outputs": []
    },
    {
      "cell_type": "code",
      "source": [
        "!cd Mecab-ko-for-Google-Colab\n",
        "!bash install_mecab-ko_on_colab_light_220429.sh"
      ],
      "metadata": {
        "id": "fkM-y61WmTlz"
      },
      "execution_count": null,
      "outputs": []
    },
    {
      "cell_type": "markdown",
      "source": [
        "# Mecab 워드사전에 단어 추가"
      ],
      "metadata": {
        "id": "Sa7GsdwAlXZq"
      }
    },
    {
      "cell_type": "code",
      "source": [
        "!cd /content/drive/MyDrive/NewJJeans/HAND/mecab-ko-dic-2.1.1-20180720 #mecab 워드사전 경로로 이동"
      ],
      "metadata": {
        "id": "fa28bH3Blf7x"
      },
      "execution_count": null,
      "outputs": []
    },
    {
      "cell_type": "code",
      "source": [
        "from konlpy.tag import Mecab\n",
        "mecab = Mecab()\n",
        "print(mecab.pos(\"김히어라 황희찬 침착맨 권은비\"))"
      ],
      "metadata": {
        "id": "w6RM7LMzm7HP"
      },
      "execution_count": null,
      "outputs": []
    },
    {
      "cell_type": "code",
      "source": [
        "from jamo import h2j, j2hcj\n",
        "\n",
        "def get_jongsung_TF(sample_text):\n",
        "    sample_text_list = list(sample_text)\n",
        "    last_word = sample_text_list[-1]\n",
        "    last_word_jamo_list = list(j2hcj(h2j(last_word)))\n",
        "    last_jamo = last_word_jamo_list[-1]\n",
        "\n",
        "    jongsung_TF = \"T\"\n",
        "\n",
        "    if last_jamo in ['ㅏ', 'ㅑ', 'ㅓ', 'ㅕ', 'ㅗ', 'ㅛ', 'ㅜ', 'ㅠ', 'ㅡ', 'ㅣ', 'ㅘ', 'ㅚ', 'ㅙ', 'ㅝ', 'ㅞ', 'ㅢ', 'ㅐ,ㅔ', 'ㅟ', 'ㅖ', 'ㅒ']:\n",
        "        jongsung_TF = \"F\"\n",
        "\n",
        "    return jongsung_TF"
      ],
      "metadata": {
        "id": "9C08qwwJnIQG"
      },
      "execution_count": null,
      "outputs": []
    },
    {
      "cell_type": "code",
      "source": [
        "def make_user_dic_csv(morpheme_type, word_list, user_dic_file_name):\n",
        "  file_data = []\n",
        "\n",
        "  for word, score in word_list:\n",
        "    jongsung_TF = get_jongsung_TF(word)\n",
        "\n",
        "    line = f\"{word},,,{score},{morpheme_type},*,{jongsung_TF},{word},*,*,*,*,*\\n\"\n",
        "\n",
        "    file_data.append(line)\n",
        "\n",
        "  with open(f\"./user-dic/{user_dic_file_name}\", 'w', encoding='utf-8') as f:\n",
        "    for line in file_data:\n",
        "      f.write(line)"
      ],
      "metadata": {
        "id": "BxYHkqxanJrg"
      },
      "execution_count": null,
      "outputs": []
    },
    {
      "cell_type": "code",
      "source": [
        "words = ['신화', 'god', '동방신기', 'SS501', '슈퍼주니어', '빅뱅', 'FT아일랜드', '위너', '하이라이트',\n",
        "        '엑스원', '워너원', '아이콘', '원타임', '샤이니', '젝스키스', '비스트', '2PM', '엑소', '방탄소년단', '블락비',\n",
        "        '스트레이키즈', '몬스타엑스', '원어스', '엔시티 드림', '에이티즈', '부석순', '펜타곤', '아스트로', '뉴이스트', '더보이즈',\n",
        "        '제로베이스원', '엔플라잉', '투모로우바이투게더', '틴탑', '빅스', '인피니트', '쟈니스', 'B1A4',\n",
        "        '아이즈원', '브라운아이드걸스', '써니힐', '다비치', 'Apink', '마마무', '레드벨벳', '트와이스',\n",
        "        '우주소녀', '블랙핑크', '드림캐쳐', '시크엔젤', '엘리스', '위키미키', '오드아이써클', '해시태그',\n",
        "        '버스터즈', '헤이걸스', '프로미스나인', '오마이걸 반하나', '(여자)아이들', '네이처', '핑크판타지',\n",
        "        '드림노트', '체리불렛', '있지', '에버글로우', '로켓펀치', '시그니처', '우아!',\n",
        "        '위클리', '시크릿넘버', '블랙스완', '스테이씨', '에스파', '미니마니', '트라이비', '아이칠린', '미미로즈',\n",
        "        '피프티 피프티', '뉴진스', '퀸즈아이', '트리플에스', '브브걸', '키스 오브 라이프', '메이브', '이세계아이돌',\n",
        "        '이엑스아이디', '케플러', '하이키', '록킹돌', '갓 더 비트', '비비지', '엔믹스', '아릴리원', '르세라핌', '클라씨',\n",
        "        '인스타그램', '페이스북', '스레드', '트위터']"
      ],
      "metadata": {
        "id": "MZw_Tun5tKco"
      },
      "execution_count": null,
      "outputs": []
    },
    {
      "cell_type": "code",
      "source": [
        "make_user_dic_csv(morpheme_type=\"NNP\", word_list=words, user_dic_file_name='user-nnp.csv')"
      ],
      "metadata": {
        "id": "r9gjm14inMmZ"
      },
      "execution_count": null,
      "outputs": []
    },
    {
      "cell_type": "code",
      "source": [
        "!cat user-dic/user-nnp.csv"
      ],
      "metadata": {
        "id": "gelErXQ1uL5J"
      },
      "execution_count": null,
      "outputs": []
    },
    {
      "cell_type": "markdown",
      "source": [
        "# 저장한 사용자 사전 파일 적용하기"
      ],
      "metadata": {
        "id": "6o8cqT6_uRmO"
      }
    },
    {
      "cell_type": "code",
      "source": [
        "!bash autogen.sh"
      ],
      "metadata": {
        "id": "ZjjidMufnlbS"
      },
      "execution_count": null,
      "outputs": []
    },
    {
      "cell_type": "code",
      "source": [
        "!make"
      ],
      "metadata": {
        "id": "XqOzs8Genn8v"
      },
      "execution_count": null,
      "outputs": []
    },
    {
      "cell_type": "code",
      "source": [
        "!sudo make install"
      ],
      "metadata": {
        "id": "_aUuKEJEnqhQ"
      },
      "execution_count": null,
      "outputs": []
    },
    {
      "cell_type": "code",
      "source": [
        "!bash tools/add-userdic.sh"
      ],
      "metadata": {
        "id": "LPuwiLpFnr-Y"
      },
      "execution_count": null,
      "outputs": []
    },
    {
      "cell_type": "markdown",
      "source": [
        "# 적용 확인"
      ],
      "metadata": {
        "id": "wHjpdLnjuVu0"
      }
    },
    {
      "cell_type": "code",
      "source": [
        "from konlpy.tag import Mecab\n",
        "\n",
        "mecab = Mecab(dicpath='/content/drive/MyDrive/NewJJeans/HAND/mecab-ko-dic-2.1.1-20180720')\n",
        "\n",
        "word_list = ['아이즈원','권은비', '피프티 피프티', '침착맨', '투모로우바이투게더', '인스타그램', '미미로즈']\n",
        "\n",
        "for word in word_list:\n",
        "  print(mecab.pos(word))"
      ],
      "metadata": {
        "id": "Tbwu8kbYnw4-"
      },
      "execution_count": null,
      "outputs": []
    },
    {
      "cell_type": "markdown",
      "source": [
        "# Mecab 워드사전에서 단어 삭제"
      ],
      "metadata": {
        "id": "MuACSkiSVEru"
      }
    },
    {
      "cell_type": "code",
      "source": [
        "import csv\n",
        "\n",
        "# 입력할 CSV 파일명과 삭제할 라인 번호\n",
        "csv_file_path = 'user-dic/nnp.csv'\n",
        "line_to_delete = [2,3,4,5,6,7,8] # 삭제할 라인의 번호 (0부터 시작)\n",
        "\n",
        "# CSV 파일을 읽고 새로운 내용을 저장할 임시 리스트 생성\n",
        "new_rows = []\n",
        "\n",
        "# CSV 파일을 읽어서 삭제할 라인을 제외한 내용을 임시 리스트에 저장\n",
        "with open(csv_file_path, 'r', newline='') as csv_file:\n",
        "    csv_reader = csv.reader(csv_file)\n",
        "    for line_number, row in enumerate(csv_reader):\n",
        "        if line_number not in line_to_delete:\n",
        "            new_rows.append(row)\n",
        "\n",
        "# 임시 리스트의 내용을 기존 CSV 파일에 쓰기\n",
        "with open(csv_file_path, 'w', newline='') as csv_file:\n",
        "    csv_writer = csv.writer(csv_file)\n",
        "    csv_writer.writerows(new_rows)\n",
        "\n",
        "print(f\"Line {line_to_delete} deleted from {csv_file_path}.\")\n"
      ],
      "metadata": {
        "id": "faSAVGaxUvV0"
      },
      "execution_count": null,
      "outputs": []
    },
    {
      "cell_type": "code",
      "source": [
        "word_list = ['권은비']"
      ],
      "metadata": {
        "id": "Gw7LAEyx2K6S"
      },
      "execution_count": null,
      "outputs": []
    },
    {
      "cell_type": "code",
      "source": [
        "# 종성 여부를 판단하는 함수\n",
        "from jamo import h2j, j2hcj\n",
        "\n",
        "def get_jongsung_TF(sample_text):\n",
        "    sample_text_list = list(sample_text)\n",
        "    last_word = sample_text_list[-1]\n",
        "    last_word_jamo_list = list(j2hcj(h2j(last_word)))\n",
        "    last_jamo = last_word_jamo_list[-1]\n",
        "\n",
        "    jongsung_TF = \"T\"\n",
        "\n",
        "    if last_jamo in ['ㅏ', 'ㅑ', 'ㅓ', 'ㅕ', 'ㅗ', 'ㅛ', 'ㅜ', 'ㅠ', 'ㅡ', 'ㅣ', 'ㅘ', 'ㅚ', 'ㅙ', 'ㅝ', 'ㅞ', 'ㅢ', 'ㅐ,ㅔ', 'ㅟ', 'ㅖ', 'ㅒ']:\n",
        "        jongsung_TF = \"F\"\n",
        "\n",
        "    return jongsung_TF"
      ],
      "metadata": {
        "id": "uROUxbGY2b5D"
      },
      "execution_count": null,
      "outputs": []
    },
    {
      "cell_type": "code",
      "source": [
        "# 단어 추가 user-dic/\n",
        "with open(\"user-dic/person.csv\", 'r', encoding='utf-8') as f:\n",
        "  file_data = f.readlines()\n",
        "\n",
        "word_list = ['권은비', '침착맨', '김히어라', '마주석', '황희찬']\n",
        "\n",
        "for word in word_list:\n",
        "  jongsung_TF = get_jongsung_TF(word)\n",
        "\n",
        "  line = '{},,,,NNP,*,{},{},*,*,*,*,*\\n'.format(word, jongsung_TF, word)\n",
        "\n",
        "  file_data.append(line)\n",
        "\n",
        "with open(\"user-dic/person.csv\", 'w', encoding='utf-8') as f:\n",
        "  for line in file_data:\n",
        "    f.write(line)"
      ],
      "metadata": {
        "id": "p8fcOQJb3bVN"
      },
      "execution_count": null,
      "outputs": []
    },
    {
      "cell_type": "code",
      "source": [
        "with open(\"user-dic/person.csv\", 'r', encoding='utf-8') as f:\n",
        "  file_new = f.readlines()\n",
        "file_new"
      ],
      "metadata": {
        "id": "3We8nGMG6mbs"
      },
      "execution_count": null,
      "outputs": []
    },
    {
      "cell_type": "code",
      "source": [
        "ls mecab-ko-dic"
      ],
      "metadata": {
        "id": "b_NG_J8hVgFQ"
      },
      "execution_count": null,
      "outputs": []
    },
    {
      "cell_type": "code",
      "source": [
        "pwd"
      ],
      "metadata": {
        "id": "dF48mn00jxz9"
      },
      "execution_count": null,
      "outputs": []
    },
    {
      "cell_type": "code",
      "source": [],
      "metadata": {
        "id": "ke_55vGqkBlB"
      },
      "execution_count": null,
      "outputs": []
    },
    {
      "cell_type": "code",
      "source": [
        "!git clone https://github.com/SOMJANG/Mecab-ko-for-Google-Colab.git"
      ],
      "metadata": {
        "id": "s86CACAQjoJv"
      },
      "execution_count": null,
      "outputs": []
    },
    {
      "cell_type": "code",
      "source": [
        "!bash install_mecab-ko_on_colab_light_220429.sh"
      ],
      "metadata": {
        "id": "OK7YI8xflM5x"
      },
      "execution_count": null,
      "outputs": []
    },
    {
      "cell_type": "code",
      "source": [
        "cd Mecab-ko-for-Google-Colab/"
      ],
      "metadata": {
        "id": "SRk0DczlkCue"
      },
      "execution_count": null,
      "outputs": []
    },
    {
      "cell_type": "code",
      "source": [
        "ls"
      ],
      "metadata": {
        "id": "GExcJLpGkEB2"
      },
      "execution_count": null,
      "outputs": []
    },
    {
      "cell_type": "code",
      "source": [
        "!bash ./install_mecab-ko_on_colab190912.sh"
      ],
      "metadata": {
        "id": "1-OMwUUekGNF"
      },
      "execution_count": null,
      "outputs": []
    },
    {
      "cell_type": "code",
      "source": [
        "from konlpy.tag import Mecab\n",
        "mecab = Mecab()"
      ],
      "metadata": {
        "id": "jy3d_9Zdk2Zs"
      },
      "execution_count": null,
      "outputs": []
    },
    {
      "cell_type": "code",
      "source": [
        "# Mecab Tokenizer 설치\n",
        "%cd /content/drive/MyDrive/NewJJeans/mecab/Mecab-ko-for-Google-Colab\n",
        "!bash install_mecab-ko_on_colab_light_220429.sh # 1~3분정도 소요"
      ],
      "metadata": {
        "id": "iGmkoqN12eDT"
      },
      "execution_count": null,
      "outputs": []
    },
    {
      "cell_type": "code",
      "source": [
        "from konlpy.tag import Mecab\n",
        "dicpath = '/content/drive/MyDrive/NewJJeans/mecab/mecab-ko-dic' # 드라이브 경로 수전\n",
        "mecab = Mecab(dicpath=dicpath)\n",
        "tokenizer = mecab.morphs"
      ],
      "metadata": {
        "id": "QVee0Xd-3gk5"
      },
      "execution_count": null,
      "outputs": []
    },
    {
      "cell_type": "code",
      "source": [
        "new_kor_boyGroup = []\n",
        "\n",
        "\n",
        "for k in kor_boyGroup:\n",
        "    if k not in tokenizer(k):\n",
        "        new_kor_boyGroup.append(k)\n",
        "    else: print(k)"
      ],
      "metadata": {
        "id": "kcLncNVT3rj_"
      },
      "execution_count": null,
      "outputs": []
    },
    {
      "cell_type": "code",
      "source": [
        "new_kor_girlGroup"
      ],
      "metadata": {
        "id": "pH_QlSQWPTW4"
      },
      "execution_count": null,
      "outputs": []
    }
  ]
}