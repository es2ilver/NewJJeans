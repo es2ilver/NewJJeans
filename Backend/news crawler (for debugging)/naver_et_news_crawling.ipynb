{
 "cells": [
  {
   "cell_type": "code",
   "execution_count": null,
   "metadata": {},
   "outputs": [],
   "source": [
    "import requests\n",
    "from bs4 import BeautifulSoup\n",
    "\n",
    "url = 'https://entertain.naver.com/home'\n",
    "headers = {\"User-Agent\": \"Mozilla/5.0 (Windows NT 6.3; WOW64) AppleWebKit/537.36 (KHTML, like Gecko) Chrome/44.0.2403.157 Safari/537.36\"}\n",
    "resp = requests.get(url, headers=headers)\n",
    "soup = BeautifulSoup(resp.text, 'html.parser')\n",
    "\n",
    "title_links = [link['href'] for link in soup.find_all('a', class_='title') if link['href'].startswith('/read')]\n",
    "\n",
    "news_links = []\n",
    "\n",
    "for link in title_links:\n",
    "    news_link = f'https://entertain.naver.com/{link}'\n",
    "    print(news_link)\n",
    "    news_links.append(news_link)"
   ]
  },
  {
   "cell_type": "code",
   "execution_count": 106,
   "metadata": {},
   "outputs": [
    {
     "name": "stdout",
     "output_type": "stream",
     "text": [
      "박해진 '대국민 사기극' 들통...임지연 \"찌질하시네\"\n",
      "'치악산', 개봉 앞두고 원주시 제목 변경 항의..\"19금 영화 아냐\"\n",
      "'손둥 동굴' 안정환, 박항서에 \"말년에 쉬시지, 뭐하러 동굴을 간다고 하냐\" 불만 토로\n",
      "오죽하면 MC데프콘이 대시..\"정숙, 종수 만나지마\" 폭발\n",
      "한지완, 김진우 계략에 빠졌다…횡령 혐의로 긴급체포\n",
      "오죽하면 MC데프콘이 대시..\"정숙, 종수 만나지마\" 폭발\n",
      "윤균상 '치악산', 개봉 전부터 이미지 훼손 논란..원주시 \"제목 바꿔달라\"\n",
      "박해진, 사고 위장 가짜 뉴스 들통 '역풍'→개탈에 경고 \"반드시 잡는다\"\n",
      "유준원 부모 “포켓돌, 무리한 계약요구···피프티피프티와 엮는 언플에 분노”\n",
      "'정태우子' 정하준, 지코의 KOZ엔터 떠났다…캐스팅→데뷔 초미의 관심사\n"
     ]
    }
   ],
   "source": [
    "import re\n",
    "\n",
    "for news_url in news_links[:10]:\n",
    "    headers = {\"User-Agent\": \"Mozilla/5.0 (Windows NT 6.3; WOW64) AppleWebKit/537.36 (KHTML, like Gecko) Chrome/44.0.2403.157 Safari/537.36\"}\n",
    "    resp = requests.get(news_url, headers=headers)\n",
    "    soup = BeautifulSoup(resp.text, 'html.parser')\n",
    "\n",
    "    # 뉴스기사 제목 찾기\n",
    "    title_element = soup.find(id='browse_title')\n",
    "    news_title = title_element.text.replace(\" :: 네이버 TV연예\", \"\")\n",
    "    news_title = re.sub(r'\\s*[\\(\\[]\\s*[^\\)\\]]+\\s*[\\)\\]]\\s*', '', news_title)\n",
    "    # 뉴스기사 본문 찾기\n",
    "    em_elements = soup.find(id='articeBody')\n",
    "    news_contents = em_elements.text.replace('\\n','')\n",
    "    news = news_title + news_contents\n",
    "    print(news_title)"
   ]
  },
  {
   "cell_type": "code",
   "execution_count": 13,
   "metadata": {},
   "outputs": [],
   "source": [
    "news_url = 'https://entertain.naver.com//read?oid=213&aid=0001267673'\n",
    "headers = {\"User-Agent\": \"Mozilla/5.0 (Windows NT 6.3; WOW64) AppleWebKit/537.36 (KHTML, like Gecko) Chrome/44.0.2403.157 Safari/537.36\"}\n",
    "resp = requests.get(url, headers=headers)\n",
    "soup = BeautifulSoup(resp.text, 'html.parser')\n",
    "\n",
    "\n"
   ]
  },
  {
   "cell_type": "code",
   "execution_count": null,
   "metadata": {},
   "outputs": [],
   "source": [
    "title_links = [link['href'] for link in soup.find_all('a', class_='title') if link['href'].startswith('/read')]\n",
    "\n",
    "\n",
    "for link in title_links:\n",
    "    news_link = f'https://entertain.naver.com/{link}'\n",
    "    print(news_link)"
   ]
  },
  {
   "cell_type": "code",
   "execution_count": null,
   "metadata": {},
   "outputs": [],
   "source": [
    "for link in title_links:\n",
    "    news_link = f'https://entertain.naver.com/{link}'\n",
    "    print(news_link)"
   ]
  },
  {
   "cell_type": "code",
   "execution_count": 91,
   "metadata": {},
   "outputs": [],
   "source": [
    "news_url = 'https://entertain.naver.com//read?oid=112&aid=0003649533&cid=1073788'\n",
    "resp = requests.get(news_url, headers=headers)\n",
    "soup = BeautifulSoup(resp.text, 'html.parser')"
   ]
  },
  {
   "cell_type": "code",
   "execution_count": 92,
   "metadata": {},
   "outputs": [],
   "source": [
    "# 뉴스기사 제목 찾기\n",
    "title_element = soup.find(id='browse_title')\n",
    "news_title = title_element.text\n",
    "# 뉴스기사 본문 찾기\n",
    "em_elements = soup.find(id='articeBody')\n",
    "news_contents = em_elements.text.replace('\\n','')"
   ]
  },
  {
   "cell_type": "code",
   "execution_count": 93,
   "metadata": {},
   "outputs": [],
   "source": [
    "news = news_title + news_contents"
   ]
  },
  {
   "cell_type": "code",
   "execution_count": 94,
   "metadata": {},
   "outputs": [
    {
     "data": {
      "text/plain": [
       "'민효린, 내추럴한 셀프 메이크업..\"비건 브랜드 항상 응원해\"(보그) :: 네이버 TV연예 보그 재팬 채널 영상 캡처[헤럴드POP=정혜연기자]민효린이 셀프 메이크업 영상을 공개했다.24일 보그 재팬 유튜브 채널에는 \\'민효린 시연. 내추럴한 매력이 돋보이는 심플 메이크업 비법\\'이라는 제목의 영상이 게재됐다.영상 속 민효린은 데일리 메이크업을 보여 줄 예정이라고 밝혔다. 피부가 예민한 편이라는 민효린은 \"클렌징은 크림보다는 젤 타입이 잘 맞는 편이다. 저는 화장솜을 많이 쓴다. 유기농 화장솜을 물에 적셔서 닦아낸다. 마무리가 되면 크림을 발라준다\"고 설명했다.민효린은 \"평소에 내추럴하고 한 듯 안 한 듯한 메이크업 스타일을 좋아한다. 파운데이션은 밝은색과 어두운색 2개를 쓴다. 외곽 쪽에는 어두운 컬러를 바르고 얼굴 안쪽에는 밝은 컬러를 바르면 따로 셰이딩을 하지 않아도 되는 장점이 있다\"고 전했다.브러시 관리를 중요하게 생각한다는 민효리는 \"쓴 제품을 매일 밤 세척해 준다\"고 강조했다. 또 블러셔를 좋아한다는 민효린은 \"저는 생기를 빨리 되찾고자 빨리 바르는 편이다. 치크를 하고 나면 사랑스러워진 느낌을 느낀다\"고 말하며 웃었다.민효린은 아이섀도우 팔레트를 추천하며 \"하나만 있어도 화장을 마무리할 수 있다. 비건 제품이고 건강한 생각을 가진 브랜드라 저도 항상 응원하고 있다. 스킨 톤에 가까운 컬러를 바르고 반짝이는 걸 좋아해서 항상 빼먹지 않는 컬러가 글리터다. 반짝이는 섀도우를 바르면 청초해 보이고 눈물을 머금은 듯한 느낌이 난다\"고 설명했다.이후 촉촉한 립스틱을 발라 한층 더 생기 있는 비주얼을 완성한 민효린은 \"저는 오버립을 좋아한다\"며 손가락으로 입술 경계을 문질러 자연스러운 오버립을 완성했다. 민효린은 눈썹은 거의 마지막 단계에 그린다며 \"치크랑 립 전에 눈썹 메이크업을 하니 너무 짙게 그려지더라. 전체적인 메이크업을 하고 난 뒤 눈썹을 그리면 밸런스가 맞는 느낌이다\"고 이야기했다.이날 민효린은 아이라이너로 눈 꼬리만 살짝 빼주고 하이라이터와 파우더 제품을 이용해 내추럴한 메이크업을 완성했다. 민효린은 \"저처럼 내추럴한 메이크업을 좋아하시는 분들께 도움이 됐으면 좋겠다. 저의 파우더룸에 와주셔서 감사드리고 다음에도 더 좋은 곳에서 여러분들을 만나 뵙길 소망한다\"고 전하며 영상을 마쳤다.'"
      ]
     },
     "execution_count": 94,
     "metadata": {},
     "output_type": "execute_result"
    }
   ],
   "source": [
    "news"
   ]
  }
 ],
 "metadata": {
  "kernelspec": {
   "display_name": "base",
   "language": "python",
   "name": "python3"
  },
  "language_info": {
   "codemirror_mode": {
    "name": "ipython",
    "version": 3
   },
   "file_extension": ".py",
   "mimetype": "text/x-python",
   "name": "python",
   "nbconvert_exporter": "python",
   "pygments_lexer": "ipython3",
   "version": "3.11.3"
  },
  "orig_nbformat": 4,
  "vscode": {
   "interpreter": {
    "hash": "f41e1cc7670ea4f36b583d0300139665460618ecf0268b6e88e349fe439dc38f"
   }
  }
 },
 "nbformat": 4,
 "nbformat_minor": 2
}
